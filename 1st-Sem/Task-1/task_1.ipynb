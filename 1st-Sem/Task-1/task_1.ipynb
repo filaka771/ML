{
 "cells": [
  {
   "cell_type": "code",
   "execution_count": 19,
   "id": "2afff4cb-93aa-47bc-a341-8a2db587f58a",
   "metadata": {},
   "outputs": [
    {
     "name": "stdin",
     "output_type": "stream",
     "text": [
      "Enter your mail:  filak.a@phystech.edu\n"
     ]
    },
    {
     "data": {
      "text/plain": [
       "{'mail': 'filak.a@phystech.edu',\n",
       " 'id': 1084834779,\n",
       " 'type': 'classification',\n",
       " 'dataset': {'name': 'MNIST', 'url': 'http://yann.lecun.com/exdb/mnist/'},\n",
       " 'method': ['Метод потенциальных функций', 'k-ближайших соседей', 'SVM']}"
      ]
     },
     "execution_count": 19,
     "metadata": {},
     "output_type": "execute_result"
    }
   ],
   "source": [
    "from zlib import crc32\n",
    "import numpy as np\n",
    "\n",
    "types = ['regression', 'classification']\n",
    "datasets = {'regression': [{'name': 'Servo Data Set',\n",
    "                            'url': 'https://archive.ics.uci.edu/ml/datasets/Servo'}, \n",
    "                           {'name': 'Forest Fires Data Set',\n",
    "                            'url': 'https://archive.ics.uci.edu/ml/datasets/Forest+Fires'},\n",
    "                           {'name': 'Boston Housing Data Set',\n",
    "                            'url': 'https://scikit-learn.org/stable/modules/generated/sklearn.datasets.load_boston.html#sklearn.datasets.load_boston'}, \n",
    "                           {'name': 'Diabetes Data Set',\n",
    "                            'url': 'https://scikit-learn.org/stable/modules/generated/sklearn.datasets.load_diabetes.html#sklearn.datasets.load_diabetes'}],\n",
    "            'classification': [{'name': 'Spambase Data Set',\n",
    "                                'url': 'https://archive.ics.uci.edu/ml/datasets/Spambase'}, \n",
    "                               {'name': 'Wine Data Set',\n",
    "                                'url': 'https://scikit-learn.org/s​grabovoy.av@phystech.edu​table/modules/generated/sklearn.datasets.load_wine.html#sklearn.datasets.load_wine'}, \n",
    "                               {'name': 'Breast Cancer Data Set',\n",
    "                                'url': 'https://scikit-learn.org/stable/modules/generated/sklearn.datasets.load_breast_cancer.html#sklearn.datasets.load_breast_cancer'}, \n",
    "                               {'name': 'MNIST',\n",
    "                                'url': 'http://yann.lecun.com/exdb/mnist/'}]}\n",
    "methods = {'regression': ['Линейная регрессия', \n",
    "                          'Перцептрон', \n",
    "                          'Надарая-Ватсона',\n",
    "                          'SVR'],\n",
    "           'classification': ['Логистическая регрессия', \n",
    "                              'Перцептрон', \n",
    "                              'k-ближайших соседей',\n",
    "                              'Метод потенциальных функций',\n",
    "                              'Метод Парзеновского окна', \n",
    "                              'SVM']}\n",
    "task = dict()\n",
    "task['mail'] = input(prompt='Enter your mail: ')\n",
    "task['id'] = crc32(task['mail'].encode('utf-8'))\n",
    "np.random.seed(task['id'])\n",
    "task['type'] = np.random.choice(types)\n",
    "task['dataset'] = np.random.choice(datasets[task['type']])\n",
    "task['method'] = np.random.choice(\n",
    "    methods[task['type']], size=3, replace=False).tolist()\n",
    "\n",
    "\n",
    "task\n"
   ]
  },
  {
   "cell_type": "markdown",
   "id": "ab2b2228-2ffd-414a-9246-2e00ecb01930",
   "metadata": {},
   "source": [
    "# Homework 1"
   ]
  },
  {
   "cell_type": "markdown",
   "id": "1b2ef169-bb10-4e60-a6f5-b24e611af6cd",
   "metadata": {},
   "source": [
    "### Import all required packages"
   ]
  },
  {
   "cell_type": "code",
   "execution_count": 2,
   "id": "6a41eb88-4d84-4141-bb8e-0a1a23b8e9be",
   "metadata": {},
   "outputs": [],
   "source": [
    "# Imports\n",
    "import numpy as np\n",
    "import matplotlib.pyplot as plt\n",
    "from sklearn.datasets import fetch_openml\n",
    "from sklearn.preprocessing import StandardScaler\n",
    "from sklearn.model_selection import train_test_split, GridSearchCV\n",
    "from sklearn.neighbors import KNeighborsClassifier\n",
    "from sklearn.svm import SVC\n",
    "from sklearn.metrics import classification_report, accuracy_score\n",
    "import seaborn as sns\n"
   ]
  },
  {
   "cell_type": "markdown",
   "id": "6f317cd8-0acc-4edd-ac11-1d0344299666",
   "metadata": {},
   "source": [
    "### Load MNIST dataset "
   ]
  },
  {
   "cell_type": "code",
   "execution_count": 3,
   "id": "05e171df-f367-403e-a3ab-70ad92ed6a2d",
   "metadata": {},
   "outputs": [],
   "source": [
    "mnist = fetch_openml('mnist_784', version=1)\n",
    "X, y = mnist[\"data\"], mnist[\"target\"]\n",
    "y = y.astype(np.int8)  # Convert labels to integers\n",
    "\n"
   ]
  },
  {
   "cell_type": "markdown",
   "id": "59ee6de7-ba6e-4a3f-8e58-fe006e56012f",
   "metadata": {},
   "source": [
    "### Split dataset into train and test sets\n",
    "\n",
    "X            - given dataset.\n",
    "\n",
    "y            - lables array.\n",
    "\n",
    "test size    - proportion of test and train datasets.\n",
    "\n",
    "random_state - reproduce the same results across multiple runs by seeding the random number generator."
   ]
  },
  {
   "cell_type": "code",
   "execution_count": 4,
   "id": "f4294ac2-c6f9-4ded-b6c8-b4abbb241c6c",
   "metadata": {},
   "outputs": [],
   "source": [
    "# Split into train and test sets\n",
    "X_train, X_test, y_train, y_test = train_test_split(X, y, test_size=0.166, random_state=42)\n",
    "\n"
   ]
  },
  {
   "cell_type": "markdown",
   "id": "8d71f14b-cecd-4545-8d84-b30f772f30d2",
   "metadata": {},
   "source": [
    "### Visualisation of given dataset\n",
    "\n",
    "Here are first five pictures from the dataset and labels for them."
   ]
  },
  {
   "cell_type": "code",
   "execution_count": 5,
   "id": "bbab4003-eb3d-40b3-9cc6-f258c61cdcb8",
   "metadata": {},
   "outputs": [
    {
     "data": {
      "image/png": "[encoded data removed]",
      "text/plain": [
       "<Figure size 1000x400 with 5 Axes>"
      ]
     },
     "metadata": {},
     "output_type": "display_data"
    }
   ],
   "source": [
    "# Step 2: Data Analysis (Display some samples)\n",
    "# Convert DataFrame to NumPy array\n",
    "X_train_np = X_train.to_numpy()\n",
    "\n",
    "# Display the first 5 samples\n",
    "fig, axes = plt.subplots(1, 5, figsize=(10, 4))\n",
    "for i, ax in enumerate(axes):\n",
    "    ax.imshow(X_train_np[i].reshape(28, 28), cmap='gray')\n",
    "    ax.set_title(f'Label: {y_train.iloc[i]}')  # Access label with .iloc for proper indexing\n",
    "    ax.axis('off')\n",
    "plt.show()\n"
   ]
  },
  {
   "cell_type": "markdown",
   "id": "2f1ad5e3-7ebc-48e7-a11d-a3fee3a11c8f",
   "metadata": {},
   "source": [
    "### Normalization\n",
    "\n",
    "Here is normalization of given dataset. \n",
    "\n",
    "We use standartization technique(Z-Score Normalization). "
   ]
  },
  {
   "cell_type": "code",
   "execution_count": 6,
   "id": "2812fdf0-cca6-4e6c-8759-b2acb6b5cae2",
   "metadata": {},
   "outputs": [],
   "source": [
    "# Step 3: Preprocessing (Normalization)\n",
    "scaler = StandardScaler()\n",
    "X_train_scaled = scaler.fit_transform(X_train)\n",
    "X_test_scaled = scaler.transform(X_test)\n",
    "\n"
   ]
  },
  {
   "cell_type": "markdown",
   "id": "b49a6534-69dd-45ed-92ab-afb6e35e9785",
   "metadata": {},
   "source": [
    "## k-Nearest Neighbors"
   ]
  },
  {
   "cell_type": "markdown",
   "id": "3e7d0116-e355-413d-ad1d-0a3ea21c0258",
   "metadata": {},
   "source": [
    "### k-Nearest Neighbors training\n",
    "\n",
    "knn.fit implementaion of k-NN method is used."
   ]
  },
  {
   "cell_type": "code",
   "execution_count": 7,
   "id": "04343d76-2569-4182-80c9-7094dc4e57a6",
   "metadata": {},
   "outputs": [
    {
     "name": "stderr",
     "output_type": "stream",
     "text": [
      "/home/alex/study/VII_semestr/machine_learning/task-1/venv/lib/python3.12/site-packages/sklearn/base.py:493: UserWarning: X does not have valid feature names, but KNeighborsClassifier was fitted with feature names\n",
      "  warnings.warn(\n"
     ]
    }
   ],
   "source": [
    "# Step 4: k-Nearest Neighbors (k-NN) Implementation\n",
    "knn = KNeighborsClassifier(n_neighbors=3)\n",
    "knn.fit(X_train, y_train)\n",
    "y_pred_knn = knn.predict(X_test_scaled)\n",
    "\n"
   ]
  },
  {
   "cell_type": "markdown",
   "id": "f7c53a45-3176-40f5-9db7-bf07d36b4161",
   "metadata": {},
   "source": [
    "### Results of k-Nearest Neighbors model"
   ]
  },
  {
   "cell_type": "code",
   "execution_count": 8,
   "id": "9b95fa7f-93e7-4072-b2d9-f1a14906fae6",
   "metadata": {},
   "outputs": [
    {
     "name": "stdout",
     "output_type": "stream",
     "text": [
      "k-NN Classification Report\n",
      "              precision    recall  f1-score   support\n",
      "\n",
      "           0       0.00      0.00      0.00      1135\n",
      "           1       0.11      1.00      0.21      1330\n",
      "           2       0.00      0.00      0.00      1135\n",
      "           3       0.00      0.00      0.00      1189\n",
      "           4       0.00      0.00      0.00      1089\n",
      "           5       0.00      0.00      0.00      1056\n",
      "           6       0.00      0.00      0.00      1132\n",
      "           7       0.00      0.00      0.00      1229\n",
      "           8       0.00      0.00      0.00      1132\n",
      "           9       0.00      0.00      0.00      1193\n",
      "\n",
      "    accuracy                           0.11     11620\n",
      "   macro avg       0.01      0.10      0.02     11620\n",
      "weighted avg       0.01      0.11      0.02     11620\n",
      "\n",
      "Accuracy of k-NN: 0.1145\n"
     ]
    },
    {
     "name": "stderr",
     "output_type": "stream",
     "text": [
      "/home/alex/study/VII_semestr/machine_learning/task-1/venv/lib/python3.12/site-packages/sklearn/metrics/_classification.py:1531: UndefinedMetricWarning: Precision is ill-defined and being set to 0.0 in labels with no predicted samples. Use `zero_division` parameter to control this behavior.\n",
      "  _warn_prf(average, modifier, f\"{metric.capitalize()} is\", len(result))\n",
      "/home/alex/study/VII_semestr/machine_learning/task-1/venv/lib/python3.12/site-packages/sklearn/metrics/_classification.py:1531: UndefinedMetricWarning: Precision is ill-defined and being set to 0.0 in labels with no predicted samples. Use `zero_division` parameter to control this behavior.\n",
      "  _warn_prf(average, modifier, f\"{metric.capitalize()} is\", len(result))\n",
      "/home/alex/study/VII_semestr/machine_learning/task-1/venv/lib/python3.12/site-packages/sklearn/metrics/_classification.py:1531: UndefinedMetricWarning: Precision is ill-defined and being set to 0.0 in labels with no predicted samples. Use `zero_division` parameter to control this behavior.\n",
      "  _warn_prf(average, modifier, f\"{metric.capitalize()} is\", len(result))\n"
     ]
    }
   ],
   "source": [
    "# Evaluation for k-NN\n",
    "print(\"k-NN Classification Report\")\n",
    "print(classification_report(y_test, y_pred_knn))\n",
    "print(f\"Accuracy of k-NN: {accuracy_score(y_test, y_pred_knn):.4f}\")\n",
    "\n"
   ]
  },
  {
   "cell_type": "markdown",
   "id": "3d3559ef-41da-454e-b380-159858ae160e",
   "metadata": {},
   "source": [
    "### **k Nearest Neighbors result analiz**\n",
    "\n",
    "k-NN model shows very poor performens for MNIST.\n",
    "Acuracy = 11.45% looks like random guessing.\n",
    "\n",
    "From recall colum we can find tham model predict '1' for almost all images and this results into very low accuracy."
   ]
  },
  {
   "cell_type": "markdown",
   "id": "b5dcd257-a94b-4c38-98e3-2a2b0b631374",
   "metadata": {},
   "source": [
    "## SVM"
   ]
  },
  {
   "cell_type": "markdown",
   "id": "a3f3eb84-7a74-4cdb-8c37-944d23a06c96",
   "metadata": {},
   "source": [
    "### SVM training\n",
    "\n",
    "SVC implementation of SVM is used."
   ]
  },
  {
   "cell_type": "code",
   "execution_count": 31,
   "id": "68086f51-2a79-42e7-a39f-4ec906e504cf",
   "metadata": {},
   "outputs": [
    {
     "name": "stdout",
     "output_type": "stream",
     "text": [
      "[LibSVM]*\n",
      "optimization finished, #iter = 736\n",
      "obj = -0.293276, rho = -0.562381\n",
      "nSV = 89, nBSV = 0\n",
      ".WARN: libsvm Solver reached max_iter\n",
      "optimization finished, #iter = 1500\n",
      "obj = -7.336482, rho = 1.348545\n",
      "nSV = 434, nBSV = 0\n",
      ".WARN: libsvm Solver reached max_iter\n",
      "optimization finished, #iter = 1500\n",
      "obj = -3.426228, rho = 0.929518\n",
      "nSV = 279, nBSV = 0\n",
      ".WARN: libsvm Solver reached max_iter\n",
      "optimization finished, #iter = 1500\n",
      "obj = -0.851660, rho = 0.180363\n",
      "nSV = 183, nBSV = 0\n",
      ".WARN: libsvm Solver reached max_iter\n",
      "optimization finished, #iter = 1500\n",
      "obj = -10.373723, rho = 1.412800\n",
      "nSV = 551, nBSV = 0\n",
      ".WARN: libsvm Solver reached max_iter\n",
      "optimization finished, #iter = 1500\n",
      "obj = -8.816374, rho = -0.423271\n",
      "nSV = 367, nBSV = 0\n",
      ".WARN: libsvm Solver reached max_iter\n",
      "optimization finished, #iter = 1500\n",
      "obj = -0.781077, rho = 0.106889\n",
      "nSV = 166, nBSV = 0\n",
      ".WARN: libsvm Solver reached max_iter\n",
      "optimization finished, #iter = 1500\n",
      "obj = -11.949414, rho = 1.023954\n",
      "nSV = 471, nBSV = 0\n",
      ".WARN: libsvm Solver reached max_iter\n",
      "optimization finished, #iter = 1500\n",
      "obj = -2.292051, rho = 0.999457\n",
      "nSV = 216, nBSV = 0\n",
      ".WARN: libsvm Solver reached max_iter\n",
      "optimization finished, #iter = 1500\n",
      "obj = -10.839407, rho = 3.145327\n",
      "nSV = 375, nBSV = 0\n",
      ".WARN: libsvm Solver reached max_iter\n",
      "optimization finished, #iter = 1500\n",
      "obj = -7.990241, rho = 3.388722\n",
      "nSV = 288, nBSV = 0\n",
      ".WARN: libsvm Solver reached max_iter\n",
      "optimization finished, #iter = 1500\n",
      "obj = -2.806752, rho = -0.310553\n",
      "nSV = 163, nBSV = 0\n",
      ".WARN: libsvm Solver reached max_iter\n",
      "optimization finished, #iter = 1500\n",
      "obj = -2.860720, rho = 3.026769\n",
      "nSV = 207, nBSV = 0\n",
      ".WARN: libsvm Solver reached max_iter\n",
      "optimization finished, #iter = 1500\n",
      "obj = -1.240258, rho = 0.177935\n",
      "nSV = 145, nBSV = 0\n",
      ".WARN: libsvm Solver reached max_iter\n",
      "optimization finished, #iter = 1500\n",
      "obj = -6.006313, rho = 2.143725\n",
      "nSV = 185, nBSV = 0\n",
      ".WARN: libsvm Solver reached max_iter\n",
      "optimization finished, #iter = 1500\n",
      "obj = -31.709142, rho = 1.392988\n",
      "nSV = 707, nBSV = 0\n",
      ".WARN: libsvm Solver reached max_iter\n",
      "optimization finished, #iter = 1500\n",
      "obj = -4.914860, rho = 1.395859\n",
      "nSV = 185, nBSV = 0\n",
      ".WARN: libsvm Solver reached max_iter\n",
      "optimization finished, #iter = 1500\n",
      "obj = -16.622331, rho = -0.192526\n",
      "nSV = 1117, nBSV = 0\n",
      ".WARN: libsvm Solver reached max_iter\n",
      "optimization finished, #iter = 1500\n",
      "obj = -10.424392, rho = 0.121081\n",
      "nSV = 679, nBSV = 0\n",
      ".WARN: libsvm Solver reached max_iter\n",
      "optimization finished, #iter = 1500\n",
      "obj = -11.148838, rho = 0.073769\n",
      "nSV = 664, nBSV = 0\n",
      ".WARN: libsvm Solver reached max_iter\n",
      "optimization finished, #iter = 1500\n",
      "obj = -9.830762, rho = -0.654245\n",
      "nSV = 678, nBSV = 0\n",
      ".WARN: libsvm Solver reached max_iter\n",
      "optimization finished, #iter = 1500\n",
      "obj = -13.675865, rho = -0.652690\n",
      "nSV = 625, nBSV = 0\n",
      ".WARN: libsvm Solver reached max_iter\n",
      "optimization finished, #iter = 1500\n",
      "obj = -17.503169, rho = 0.089723\n",
      "nSV = 1053, nBSV = 0\n",
      ".WARN: libsvm Solver reached max_iter\n",
      "optimization finished, #iter = 1500\n",
      "obj = -8.731580, rho = -0.400955\n",
      "nSV = 491, nBSV = 0\n",
      ".WARN: libsvm Solver reached max_iter\n",
      "optimization finished, #iter = 1500\n",
      "obj = -2.540144, rho = -1.833965\n",
      "nSV = 266, nBSV = 0\n",
      ".WARN: libsvm Solver reached max_iter\n",
      "optimization finished, #iter = 1500\n",
      "obj = -23.073330, rho = -0.195358\n",
      "nSV = 1230, nBSV = 0\n",
      ".WARN: libsvm Solver reached max_iter\n",
      "optimization finished, #iter = 1500\n",
      "obj = -1.289144, rho = -1.388217\n",
      "nSV = 196, nBSV = 0\n",
      ".WARN: libsvm Solver reached max_iter\n",
      "optimization finished, #iter = 1500\n",
      "obj = -12.278110, rho = -1.357981\n",
      "nSV = 561, nBSV = 0\n",
      ".WARN: libsvm Solver reached max_iter\n",
      "optimization finished, #iter = 1500\n",
      "obj = -24.524711, rho = -0.190958\n",
      "nSV = 1348, nBSV = 0\n",
      ".WARN: libsvm Solver reached max_iter\n",
      "optimization finished, #iter = 1500\n",
      "obj = -19.135916, rho = -0.837814\n",
      "nSV = 658, nBSV = 0\n",
      ".WARN: libsvm Solver reached max_iter\n",
      "optimization finished, #iter = 1500\n",
      "obj = -6.489187, rho = 1.166580\n",
      "nSV = 391, nBSV = 0\n",
      ".WARN: libsvm Solver reached max_iter\n",
      "optimization finished, #iter = 1500\n",
      "obj = -5.614230, rho = -1.296538\n",
      "nSV = 324, nBSV = 0\n",
      ".WARN: libsvm Solver reached max_iter\n",
      "optimization finished, #iter = 1500\n",
      "obj = -11.221201, rho = -0.555114\n",
      "nSV = 478, nBSV = 0\n",
      ".WARN: libsvm Solver reached max_iter\n",
      "optimization finished, #iter = 1500\n",
      "obj = -4.346807, rho = 2.387977\n",
      "nSV = 315, nBSV = 0\n",
      ".WARN: libsvm Solver reached max_iter\n",
      "optimization finished, #iter = 1500\n",
      "obj = -33.892420, rho = -0.172508\n",
      "nSV = 1126, nBSV = 0\n",
      ".WARN: libsvm Solver reached max_iter\n",
      "optimization finished, #iter = 1500\n",
      "obj = -17.334328, rho = -1.508797\n",
      "nSV = 700, nBSV = 0\n",
      ".WARN: libsvm Solver reached max_iter\n",
      "optimization finished, #iter = 1500\n",
      "obj = -3.074416, rho = -1.486704\n",
      "nSV = 297, nBSV = 0\n",
      ".WARN: libsvm Solver reached max_iter\n",
      "optimization finished, #iter = 1500\n",
      "obj = -18.565676, rho = 0.039884\n",
      "nSV = 1204, nBSV = 0\n",
      ".WARN: libsvm Solver reached max_iter\n",
      "optimization finished, #iter = 1500\n",
      "obj = -15.652796, rho = -0.528295\n",
      "nSV = 611, nBSV = 0\n",
      "*.*\n",
      "optimization finished, #iter = 1434\n",
      "obj = -0.305481, rho = 0.346983\n",
      "nSV = 135, nBSV = 0\n",
      ".WARN: libsvm Solver reached max_iter\n",
      "optimization finished, #iter = 1500\n",
      "obj = -7.857753, rho = 2.766543\n",
      "nSV = 329, nBSV = 0\n",
      ".WARN: libsvm Solver reached max_iter\n",
      "optimization finished, #iter = 1500\n",
      "obj = -0.492734, rho = 0.784742\n",
      "nSV = 143, nBSV = 0\n",
      ".WARN: libsvm Solver reached max_iter\n",
      "optimization finished, #iter = 1500\n",
      "obj = -6.750295, rho = 2.494846\n",
      "nSV = 326, nBSV = 0\n",
      ".WARN: libsvm Solver reached max_iter\n",
      "optimization finished, #iter = 1500\n",
      "obj = -31.358568, rho = 0.062541\n",
      "nSV = 1406, nBSV = 0\n",
      ".WARN: libsvm Solver reached max_iter\n",
      "optimization finished, #iter = 1500\n",
      "obj = -20.351534, rho = -0.896627\n",
      "nSV = 707, nBSV = 0\n",
      "Total nSV = 13237\n"
     ]
    },
    {
     "name": "stderr",
     "output_type": "stream",
     "text": [
      "/home/alex/study/VII_semestr/machine_learning/task-1/venv/lib/python3.12/site-packages/sklearn/svm/_base.py:297: ConvergenceWarning: Solver terminated early (max_iter=1500).  Consider pre-processing your data with StandardScaler or MinMaxScaler.\n",
      "  warnings.warn(\n"
     ]
    }
   ],
   "source": [
    "# Step 5: Support Vector Machine (SVM) Implementation\n",
    "svm_model = SVC(kernel='linear', C=1, tol=1e-3, max_iter=1500, verbose=True)\n",
    "svm_model.fit(X_train_scaled, y_train)  # Train the model\n",
    "y_pred_svm = svm_model.predict(X_test_scaled)  # Make predictions"
   ]
  },
  {
   "cell_type": "markdown",
   "id": "9fd21978-ff6a-42b6-8713-f73c96657c48",
   "metadata": {},
   "source": [
    "### Result of SVM model"
   ]
  },
  {
   "cell_type": "code",
   "execution_count": 32,
   "id": "36388a68-5470-4a8a-b0fe-0c7e60893567",
   "metadata": {},
   "outputs": [
    {
     "name": "stdout",
     "output_type": "stream",
     "text": [
      "SVM Classification Report\n",
      "              precision    recall  f1-score   support\n",
      "\n",
      "           0       0.94      0.97      0.95      1135\n",
      "           1       0.92      0.96      0.94      1330\n",
      "           2       0.82      0.86      0.84      1135\n",
      "           3       0.76      0.71      0.73      1189\n",
      "           4       0.83      0.80      0.81      1089\n",
      "           5       0.79      0.77      0.78      1056\n",
      "           6       0.95      0.93      0.94      1132\n",
      "           7       0.85      0.71      0.78      1229\n",
      "           8       0.77      0.79      0.78      1132\n",
      "           9       0.65      0.75      0.69      1193\n",
      "\n",
      "    accuracy                           0.83     11620\n",
      "   macro avg       0.83      0.82      0.82     11620\n",
      "weighted avg       0.83      0.83      0.83     11620\n",
      "\n",
      "Accuracy of SVM: 0.8255\n"
     ]
    }
   ],
   "source": [
    "# Evaluation for SVM\n",
    "print(\"SVM Classification Report\")\n",
    "print(classification_report(y_test, y_pred_svm))\n",
    "print(f\"Accuracy of SVM: {accuracy_score(y_test, y_pred_svm):.4f}\")\n",
    "\n"
   ]
  },
  {
   "cell_type": "markdown",
   "id": "ff203c57-028f-444d-944c-ba2d440c40d4",
   "metadata": {},
   "source": [
    "### **SVM result analize**\n",
    "\n",
    "SVM achived an accuracy of 82.55%. It indicating a good level of performance.\n",
    "\n",
    "The best precision value is for number '6'.\n",
    "The worst precision value is for number '9'."
   ]
  },
  {
   "cell_type": "markdown",
   "id": "702ad0a4-c74b-4f21-9470-899e3b7b9beb",
   "metadata": {},
   "source": [
    "### Hyperparameter tuning with GridSearchCV"
   ]
  },
  {
   "cell_type": "code",
   "execution_count": 33,
   "id": "2d91b657-87bd-4ef2-ae71-8f070826c0d8",
   "metadata": {},
   "outputs": [
    {
     "name": "stdout",
     "output_type": "stream",
     "text": [
      "Best SVM Parameters: {'C': 1, 'kernel': 'rbf'}\n"
     ]
    }
   ],
   "source": [
    "# Step 6: Hyperparameter Tuning with GridSearchCV for SVM\n",
    "param_grid = {'C': [0.1, 1], 'kernel': ['linear', 'rbf']}\n",
    "grid_search = GridSearchCV(SVC(), param_grid, cv=2,n_jobs=-1)\n",
    "grid_search.fit(X_train_scaled, y_train)\n",
    "print(f\"Best SVM Parameters: {grid_search.best_params_}\")\n",
    "y_pred_best_svm = grid_search.best_estimator_.predict(X_test_scaled)\n",
    "\n"
   ]
  },
  {
   "cell_type": "markdown",
   "id": "c1b3b750-d491-4181-b5d0-3b6bbea6600a",
   "metadata": {},
   "source": [
    "### Results of Hyperparameter tuning"
   ]
  },
  {
   "cell_type": "code",
   "execution_count": 35,
   "id": "f172d371-f3a5-4e3b-8924-5aec4cc13b70",
   "metadata": {},
   "outputs": [
    {
     "name": "stdout",
     "output_type": "stream",
     "text": [
      "Best SVM Classification Report\n",
      "              precision    recall  f1-score   support\n",
      "\n",
      "           0       0.98      0.98      0.98      1135\n",
      "           1       0.98      0.99      0.98      1330\n",
      "           2       0.95      0.96      0.95      1135\n",
      "           3       0.96      0.95      0.96      1189\n",
      "           4       0.96      0.96      0.96      1089\n",
      "           5       0.97      0.96      0.96      1056\n",
      "           6       0.97      0.98      0.97      1132\n",
      "           7       0.93      0.97      0.95      1229\n",
      "           8       0.97      0.95      0.96      1132\n",
      "           9       0.97      0.94      0.95      1193\n",
      "\n",
      "    accuracy                           0.96     11620\n",
      "   macro avg       0.96      0.96      0.96     11620\n",
      "weighted avg       0.96      0.96      0.96     11620\n",
      "\n",
      "Accuracy of Best SVM: 0.9636\n"
     ]
    }
   ],
   "source": [
    "# Evaluation of tuned SVM\n",
    "print(\"Best SVM Classification Report\")\n",
    "print(classification_report(y_test, y_pred_best_svm))\n",
    "print(f\"Accuracy of Best SVM: {accuracy_score(y_test, y_pred_best_svm):.4f}\")\n",
    "\n"
   ]
  },
  {
   "cell_type": "markdown",
   "id": "8fe5aa1e-2e9d-41a2-ba4f-d7befe328054",
   "metadata": {},
   "source": [
    "### **Hyperparameter tuining resultes analize**\n",
    "\n",
    "After tuning model achived accuracy 96.36%.\n",
    "\n",
    "The worst precision is 93% for number '7'.\n",
    "\n",
    "The best precision is 98% for numbers '0' and '1'.\n",
    "\n",
    "Tuning of model gives much better result then usage of model without tuning."
   ]
  },
  {
   "cell_type": "markdown",
   "id": "b4f58b94-63f4-44e1-91dd-42721c87b739",
   "metadata": {},
   "source": [
    "### Visualization of results (Confusion Matrix for SVM)"
   ]
  },
  {
   "cell_type": "code",
   "execution_count": 36,
   "id": "4a950288-cad5-4653-bc52-804fab711958",
   "metadata": {},
   "outputs": [
    {
     "data": {
      "image/png": "[encoded data removed]",
      "text/plain": [
       "<Figure size 1000x800 with 2 Axes>"
      ]
     },
     "metadata": {},
     "output_type": "display_data"
    }
   ],
   "source": [
    "# Step 7: Visualizing results (Confusion Matrix for SVM)\n",
    "from sklearn.metrics import confusion_matrix\n",
    "conf_mat = confusion_matrix(y_test, y_pred_best_svm)\n",
    "plt.figure(figsize=(10, 8))\n",
    "sns.heatmap(conf_mat, annot=True, fmt='d', cmap='Blues', xticklabels=range(10), yticklabels=range(10))\n",
    "plt.title('Confusion Matrix for SVM')\n",
    "plt.xlabel('Predicted')\n",
    "plt.ylabel('Actual')\n",
    "plt.show()\n"
   ]
  },
  {
   "cell_type": "markdown",
   "id": "7b42c046-b337-4a14-8f24-8cea5efb1966",
   "metadata": {},
   "source": [
    "### Analiz of Confusion matrix\n",
    "\n",
    "Confusion matrix shows number of right answers on diagonal and number of wrong answers for each of posible wrong answers.\n",
    "It's easy to see that tuned SVM model give mostly right answers."
   ]
  },
  {
   "cell_type": "code",
   "execution_count": 17,
   "id": "250623c7-1288-4366-bbee-aeba2b00ee1b",
   "metadata": {},
   "outputs": [],
   "source": [
    "\n",
    "# Step 8: Potential Function Method (Placeholder)\n",
    "# NOTE: Since there's no direct library for the \"Potential Function Method,\" this part will depend on further clarification of the method.\n",
    "# You could implement this using a kernel-based method (similar to RBF in SVM).\n",
    "\n",
    "# Final Step: Export results for Kaggle\n",
    "import pandas as pd\n",
    "submission = pd.DataFrame({'ImageId': range(1, len(y_pred_best_svm) + 1), 'Label': y_pred_best_svm})\n",
    "submission.to_csv('mnist_submission.csv', index=False)"
   ]
  },
  {
   "cell_type": "markdown",
   "id": "1c4f01a9-eebf-49f0-8a99-48abbf267f5f",
   "metadata": {},
   "source": [
    "## Conclusion\n",
    "\n",
    "We tested three different machine learning methods on the MNIST dataset.\n",
    "\n",
    "\n",
    "Based on the results obtained, the following conclusions can be drawn:\n",
    "\n",
    "1.The K-Nearest Neighbors method gave very poor accuracy results (11.45%)\n",
    "\n",
    "2.SVM method gives pretty good accuracy results (82.55%) and after tuning SVM method gives much better accuracy (96.36%).\n",
    "\n",
    "So the most suteble method for task of hand writen numbers is SVM.\n"
   ]
  },
  {
   "cell_type": "code",
   "execution_count": null,
   "id": "fd686a26-78e0-4ca0-a045-5747206d8cd9",
   "metadata": {},
   "outputs": [],
   "source": []
  }
 ],
 "metadata": {
  "kernelspec": {
   "display_name": "Python 3 (ipykernel)",
   "language": "python",
   "name": "python3"
  },
  "language_info": {
   "codemirror_mode": {
    "name": "ipython",
    "version": 3
   },
   "file_extension": ".py",
   "mimetype": "text/x-python",
   "name": "python",
   "nbconvert_exporter": "python",
   "pygments_lexer": "ipython3",
   "version": "3.13.3"
  }
 },
 "nbformat": 4,
 "nbformat_minor": 5
}
